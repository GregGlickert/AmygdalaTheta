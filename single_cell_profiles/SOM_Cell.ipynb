{
 "cells": [
  {
   "cell_type": "markdown",
   "metadata": {},
   "source": [
    "# SOM Cell"
   ]
  },
  {
   "cell_type": "code",
   "execution_count": 1,
   "metadata": {},
   "outputs": [],
   "source": [
    "template_dir = '/components_homogenous/templates'\n",
    "mechanism_dir = '../components_homogenous/mechanisms/modfiles'\n",
    "cell_template = 'SOM_Cell'"
   ]
  },
  {
   "cell_type": "markdown",
   "metadata": {},
   "source": [
    "## Bio Data\n"
   ]
  },
  {
   "cell_type": "markdown",
   "metadata": {},
   "source": [
    "## Model Profile\n",
    "### Passive Properties"
   ]
  },
  {
   "cell_type": "code",
   "execution_count": 5,
   "metadata": {},
   "outputs": [
    {
     "name": "stdout",
     "output_type": "stream",
     "text": [
      "NEURON mechanisms not found in ../components_homogenous/mechanisms/modfiles.\n"
     ]
    },
    {
     "ename": "FileNotFoundError",
     "evalue": "[Errno 2] No such file or directory: '../components_homogenous/templates'",
     "output_type": "error",
     "traceback": [
      "\u001b[0;31m---------------------------------------------------------------------------\u001b[0m",
      "\u001b[0;31mFileNotFoundError\u001b[0m                         Traceback (most recent call last)",
      "Cell \u001b[0;32mIn[5], line 3\u001b[0m\n\u001b[1;32m      1\u001b[0m \u001b[38;5;28;01mfrom\u001b[39;00m \u001b[38;5;21;01mbmtool\u001b[39;00m\u001b[38;5;21;01m.\u001b[39;00m\u001b[38;5;21;01msinglecell\u001b[39;00m \u001b[38;5;28;01mimport\u001b[39;00m Profiler\n\u001b[0;32m----> 3\u001b[0m profiler \u001b[38;5;241m=\u001b[39m \u001b[43mProfiler\u001b[49m\u001b[43m(\u001b[49m\u001b[43mtemplate_dir\u001b[49m\u001b[38;5;241;43m=\u001b[39;49m\u001b[43mtemplate_dir\u001b[49m\u001b[43m,\u001b[49m\u001b[43m \u001b[49m\n\u001b[1;32m      4\u001b[0m \u001b[43m                    \u001b[49m\u001b[43mmechanism_dir\u001b[49m\u001b[38;5;241;43m=\u001b[39;49m\u001b[43mmechanism_dir\u001b[49m\u001b[43m)\u001b[49m\n\u001b[1;32m      6\u001b[0m _,_ \u001b[38;5;241m=\u001b[39m profiler\u001b[38;5;241m.\u001b[39mpassive_properties(cell_template)\n",
      "File \u001b[0;32m~/neuro-venv/lib64/python3.8/site-packages/bmtool/singlecell.py:375\u001b[0m, in \u001b[0;36mProfiler.__init__\u001b[0;34m(self, template_dir, mechanism_dir, dt)\u001b[0m\n\u001b[1;32m    372\u001b[0m     \u001b[38;5;28mself\u001b[39m\u001b[38;5;241m.\u001b[39mmechanism_dir \u001b[38;5;241m=\u001b[39m mechanism_dir\n\u001b[1;32m    373\u001b[0m \u001b[38;5;28mself\u001b[39m\u001b[38;5;241m.\u001b[39mtemplates \u001b[38;5;241m=\u001b[39m \u001b[38;5;28;01mNone\u001b[39;00m\n\u001b[0;32m--> 375\u001b[0m \u001b[38;5;28;43mself\u001b[39;49m\u001b[38;5;241;43m.\u001b[39;49m\u001b[43mload_templates\u001b[49m\u001b[43m(\u001b[49m\u001b[43m)\u001b[49m\n\u001b[1;32m    377\u001b[0m h\u001b[38;5;241m.\u001b[39mload_file(\u001b[38;5;124m\"\u001b[39m\u001b[38;5;124mstdrun.hoc\u001b[39m\u001b[38;5;124m\"\u001b[39m)\n\u001b[1;32m    378\u001b[0m \u001b[38;5;28;01mif\u001b[39;00m dt \u001b[38;5;129;01mis\u001b[39;00m \u001b[38;5;129;01mnot\u001b[39;00m \u001b[38;5;28;01mNone\u001b[39;00m:\n",
      "File \u001b[0;32m~/neuro-venv/lib64/python3.8/site-packages/bmtool/singlecell.py:389\u001b[0m, in \u001b[0;36mProfiler.load_templates\u001b[0;34m(self, hoc_template_file)\u001b[0m\n\u001b[1;32m    386\u001b[0m h_base \u001b[38;5;241m=\u001b[39m \u001b[38;5;28mset\u001b[39m(\u001b[38;5;28mdir\u001b[39m(h))\n\u001b[1;32m    388\u001b[0m cwd \u001b[38;5;241m=\u001b[39m os\u001b[38;5;241m.\u001b[39mgetcwd()\n\u001b[0;32m--> 389\u001b[0m \u001b[43mos\u001b[49m\u001b[38;5;241;43m.\u001b[39;49m\u001b[43mchdir\u001b[49m\u001b[43m(\u001b[49m\u001b[38;5;28;43mself\u001b[39;49m\u001b[38;5;241;43m.\u001b[39;49m\u001b[43mtemplate_dir\u001b[49m\u001b[43m)\u001b[49m\n\u001b[1;32m    390\u001b[0m \u001b[38;5;28;01mif\u001b[39;00m \u001b[38;5;129;01mnot\u001b[39;00m hoc_template_file:\n\u001b[1;32m    391\u001b[0m     \u001b[38;5;28mself\u001b[39m\u001b[38;5;241m.\u001b[39mhoc_templates \u001b[38;5;241m=\u001b[39m glob\u001b[38;5;241m.\u001b[39mglob(\u001b[38;5;124m\"\u001b[39m\u001b[38;5;124m*.hoc\u001b[39m\u001b[38;5;124m\"\u001b[39m)\n",
      "\u001b[0;31mFileNotFoundError\u001b[0m: [Errno 2] No such file or directory: '../components_homogenous/templates'"
     ]
    }
   ],
   "source": [
    "from bmtool.singlecell import Profiler\n",
    "\n",
    "profiler = Profiler(template_dir=template_dir, \n",
    "                    mechanism_dir=mechanism_dir)\n",
    "\n",
    "_,_ = profiler.passive_properties(cell_template)"
   ]
  },
  {
   "cell_type": "markdown",
   "metadata": {},
   "source": [
    "### FI Curve"
   ]
  },
  {
   "cell_type": "code",
   "execution_count": null,
   "metadata": {},
   "outputs": [],
   "source": [
    "amp_vec, spike_vec = profiler.fi_curve(cell_template, post_init_function=\"insert_mechs(123)\")"
   ]
  },
  {
   "cell_type": "markdown",
   "metadata": {},
   "source": [
    "### Current Injection"
   ]
  },
  {
   "cell_type": "code",
   "execution_count": null,
   "metadata": {},
   "outputs": [],
   "source": [
    "# Voltage trace with current clamp\n",
    "time_vec, voltage_vec = profiler.current_injection(cell_template, \n",
    "                                                   post_init_function=\"insert_mechs(123)\", \n",
    "                                                   inj_amp=300, inj_delay=400, inj_dur=1000)"
   ]
  },
  {
   "cell_type": "markdown",
   "metadata": {},
   "source": [
    "## References\n",
    "\n",
    "1."
   ]
  },
  {
   "cell_type": "markdown",
   "metadata": {},
   "source": []
  }
 ],
 "metadata": {
  "kernelspec": {
   "display_name": "Python 3 (ipykernel)",
   "language": "python",
   "name": "python3"
  },
  "language_info": {
   "codemirror_mode": {
    "name": "ipython",
    "version": 3
   },
   "file_extension": ".py",
   "mimetype": "text/x-python",
   "name": "python",
   "nbconvert_exporter": "python",
   "pygments_lexer": "ipython3",
   "version": "3.8.13"
  }
 },
 "nbformat": 4,
 "nbformat_minor": 2
}
